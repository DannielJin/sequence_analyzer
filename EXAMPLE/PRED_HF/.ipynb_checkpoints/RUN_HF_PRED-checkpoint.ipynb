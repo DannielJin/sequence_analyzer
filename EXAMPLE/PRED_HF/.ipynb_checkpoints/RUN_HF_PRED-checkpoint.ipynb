{
 "cells": [
  {
   "cell_type": "markdown",
   "metadata": {},
   "source": [
    "# GO"
   ]
  },
  {
   "cell_type": "code",
   "execution_count": null,
   "metadata": {},
   "outputs": [],
   "source": [
    "! ls ./CONFIG"
   ]
  },
  {
   "cell_type": "code",
   "execution_count": null,
   "metadata": {},
   "outputs": [],
   "source": [
    "! ls ./DATA"
   ]
  },
  {
   "cell_type": "markdown",
   "metadata": {},
   "source": [
    "## datasets"
   ]
  },
  {
   "cell_type": "code",
   "execution_count": null,
   "metadata": {
    "scrolled": true
   },
   "outputs": [],
   "source": [
    "from cdm_datasetmaker import Get_datasets\n",
    "datasets = Get_datasets(CONFIG_FOLDER_PATH = './CONFIG/',\n",
    "                        DATA_FOLDER_PATH = './DATA/',\n",
    "                        RESULT_FOLDER_PATH = './RESULT/',\n",
    "                        PROJECT_NAME = 'PROJECT_DATASETS',\n",
    "                        DB_CONN_FILENAME = 'DB_connection.txt',\n",
    "                        DS_PARAMS_FILE_NAME = 'DS_PARAMS.txt', \n",
    "                        PIPELINE_START_LEVEL = 4)"
   ]
  },
  {
   "cell_type": "markdown",
   "metadata": {},
   "source": [
    "## (OPTION)"
   ]
  },
  {
   "cell_type": "code",
   "execution_count": null,
   "metadata": {
    "scrolled": true
   },
   "outputs": [],
   "source": [
    "from medterm2vec import Run\n",
    "\n",
    "df_emb_results = Run(CONFIG_FOLDER_PATH = './CONFIG/',\n",
    "                     DATA_FOLDER_PATH = './DATA/',\n",
    "                     RESULT_FOLDER_PATH = './RESULT/',\n",
    "                     PROJECT_NAME = 'PROJECT_EMB',\n",
    "                     EMB_PARAMS_FILE_NAME = 'EMB_PARAMS.txt', \n",
    "                     DATASETS_INFO = datasets.info, \n",
    "                     SKIP_EDGE_EXTRACTING = True, #False\n",
    "                     NEW_GAME = True)\n",
    "df_emb_results"
   ]
  },
  {
   "cell_type": "code",
   "execution_count": null,
   "metadata": {},
   "outputs": [],
   "source": [
    "! ls ./DATA/*_emb_matrix_*"
   ]
  },
  {
   "cell_type": "markdown",
   "metadata": {},
   "source": [
    "## Run pipeline"
   ]
  },
  {
   "cell_type": "code",
   "execution_count": null,
   "metadata": {
    "scrolled": true
   },
   "outputs": [],
   "source": [
    "%matplotlib inline\n",
    "\n",
    "from sequence_analyzer import Run\n",
    "df_results = Run(CONFIG_FOLDER_PATH = './CONFIG/',\n",
    "                 RESULT_FOLDER_PATH = './RESULT/',\n",
    "                 PROJECT_NAME = 'PROJECT_ANALYSIS',\n",
    "                 SA_PARAMS_FILE_NAME = 'SA_PARAMS.txt', \n",
    "                 DATASETS = datasets,\n",
    "                 NEW_GAME = True,\n",
    "                 TEST_ONLY = False,\n",
    "                 MODEL_INDICES = [-1])\n",
    "df_results"
   ]
  },
  {
   "cell_type": "code",
   "execution_count": null,
   "metadata": {},
   "outputs": [],
   "source": [
    "print(\"DONE\")"
   ]
  },
  {
   "cell_type": "code",
   "execution_count": null,
   "metadata": {},
   "outputs": [],
   "source": []
  }
 ],
 "metadata": {
  "kernelspec": {
   "display_name": "Python 3",
   "language": "python",
   "name": "python3"
  },
  "language_info": {
   "codemirror_mode": {
    "name": "ipython",
    "version": 3
   },
   "file_extension": ".py",
   "mimetype": "text/x-python",
   "name": "python",
   "nbconvert_exporter": "python",
   "pygments_lexer": "ipython3",
   "version": "3.6.6"
  }
 },
 "nbformat": 4,
 "nbformat_minor": 2
}
