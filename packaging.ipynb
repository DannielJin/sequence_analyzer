{
 "cells": [
  {
   "cell_type": "code",
   "execution_count": 1,
   "metadata": {},
   "outputs": [
    {
     "name": "stdout",
     "output_type": "stream",
     "text": [
      "Uninstalling sequence-analyzer-1.0:\n",
      "  Successfully uninstalled sequence-analyzer-1.0\n",
      "\u001b[33mYou are using pip version 18.0, however version 18.1 is available.\n",
      "You should consider upgrading via the 'pip install --upgrade pip' command.\u001b[0m\n"
     ]
    }
   ],
   "source": [
    "! pip3 uninstall dist/* -y"
   ]
  },
  {
   "cell_type": "code",
   "execution_count": 2,
   "metadata": {},
   "outputs": [
    {
     "name": "stdout",
     "output_type": "stream",
     "text": [
      "Overwriting setup.py\n"
     ]
    }
   ],
   "source": [
    "%%writefile setup.py\n",
    "from setuptools import setup, find_packages\n",
    "\n",
    "setup(\n",
    "    name             = 'sequence_analyzer',\n",
    "    version          = '1.0',\n",
    "    description      = 'Analyze medical sequence from cdm_datasetmaker-datasets by deep learning methods ',\n",
    "    long_description = open('README.md').read(),\n",
    "    author           = 'Sanghyung Jin, Yourim Lee, Rae Woong Park',\n",
    "    author_email     = 'jsh90612@gmail.com, urimeeee.e.gmail.com, rwpark99@gmail.com',\n",
    "    url              = '',\n",
    "    download_url     = '',\n",
    "    install_requires = ['tensorflow', 'pandas', 'sklearn', 'matplotlib', 'jupyter', 'numpy'],\n",
    "    packages         = find_packages(exclude=[\"test*\"]),\n",
    "    keywords         = ['medical', 'sequence', 'deep learning', 'machine learning'],\n",
    "    python_requires  = '>=3',\n",
    "    package_data     = {},\n",
    "    zip_safe=False,\n",
    "    classifiers      = [\n",
    "        'Programming Language :: Python :: 3',\n",
    "        'Programming Language :: Python :: 3.2',\n",
    "        'Programming Language :: Python :: 3.3',\n",
    "        'Programming Language :: Python :: 3.4',\n",
    "        'Programming Language :: Python :: 3.5',\n",
    "        'Programming Language :: Python :: 3.6'\n",
    "    ]\n",
    ")"
   ]
  },
  {
   "cell_type": "code",
   "execution_count": 3,
   "metadata": {},
   "outputs": [
    {
     "name": "stdout",
     "output_type": "stream",
     "text": [
      "Overwriting setup.cfg\n"
     ]
    }
   ],
   "source": [
    "%%writefile setup.cfg\n",
    "[metadata]\n",
    "description-file = README.md"
   ]
  },
  {
   "cell_type": "code",
   "execution_count": 4,
   "metadata": {},
   "outputs": [
    {
     "name": "stdout",
     "output_type": "stream",
     "text": [
      "Overwriting MANIFEST.in\n"
     ]
    }
   ],
   "source": [
    "%%writefile MANIFEST.in\n",
    "#include LICENSE\n",
    "include README.md\n",
    "#include requirements.txt"
   ]
  },
  {
   "cell_type": "code",
   "execution_count": 5,
   "metadata": {
    "scrolled": true
   },
   "outputs": [
    {
     "name": "stdout",
     "output_type": "stream",
     "text": [
      "running test\n",
      "running egg_info\n",
      "writing sequence_analyzer.egg-info/PKG-INFO\n",
      "writing dependency_links to sequence_analyzer.egg-info/dependency_links.txt\n",
      "writing requirements to sequence_analyzer.egg-info/requires.txt\n",
      "writing top-level names to sequence_analyzer.egg-info/top_level.txt\n",
      "reading manifest file 'sequence_analyzer.egg-info/SOURCES.txt'\n",
      "reading manifest template 'MANIFEST.in'\n",
      "writing manifest file 'sequence_analyzer.egg-info/SOURCES.txt'\n",
      "running build_ext\n",
      "\n",
      "----------------------------------------------------------------------\n",
      "Ran 0 tests in 0.000s\n",
      "\n",
      "OK\n"
     ]
    }
   ],
   "source": [
    "! python3 setup.py test"
   ]
  },
  {
   "cell_type": "code",
   "execution_count": 6,
   "metadata": {
    "scrolled": true
   },
   "outputs": [
    {
     "name": "stdout",
     "output_type": "stream",
     "text": [
      "running bdist_wheel\n",
      "running build\n",
      "running build_py\n",
      "copying sequence_analyzer/train.py -> build/lib/sequence_analyzer\n",
      "installing to build/bdist.macosx-10.9-x86_64/wheel\n",
      "running install\n",
      "running install_lib\n",
      "creating build/bdist.macosx-10.9-x86_64/wheel\n",
      "creating build/bdist.macosx-10.9-x86_64/wheel/sequence_analyzer\n",
      "copying build/lib/sequence_analyzer/dl_ops.py -> build/bdist.macosx-10.9-x86_64/wheel/sequence_analyzer\n",
      "copying build/lib/sequence_analyzer/__init__.py -> build/bdist.macosx-10.9-x86_64/wheel/sequence_analyzer\n",
      "copying build/lib/sequence_analyzer/model.py -> build/bdist.macosx-10.9-x86_64/wheel/sequence_analyzer\n",
      "copying build/lib/sequence_analyzer/utils.py -> build/bdist.macosx-10.9-x86_64/wheel/sequence_analyzer\n",
      "copying build/lib/sequence_analyzer/pipeline.py -> build/bdist.macosx-10.9-x86_64/wheel/sequence_analyzer\n",
      "copying build/lib/sequence_analyzer/train.py -> build/bdist.macosx-10.9-x86_64/wheel/sequence_analyzer\n",
      "copying build/lib/sequence_analyzer/report.py -> build/bdist.macosx-10.9-x86_64/wheel/sequence_analyzer\n",
      "running install_egg_info\n",
      "running egg_info\n",
      "writing sequence_analyzer.egg-info/PKG-INFO\n",
      "writing dependency_links to sequence_analyzer.egg-info/dependency_links.txt\n",
      "writing requirements to sequence_analyzer.egg-info/requires.txt\n",
      "writing top-level names to sequence_analyzer.egg-info/top_level.txt\n",
      "reading manifest file 'sequence_analyzer.egg-info/SOURCES.txt'\n",
      "reading manifest template 'MANIFEST.in'\n",
      "writing manifest file 'sequence_analyzer.egg-info/SOURCES.txt'\n",
      "Copying sequence_analyzer.egg-info to build/bdist.macosx-10.9-x86_64/wheel/sequence_analyzer-1.0-py3.6.egg-info\n",
      "running install_scripts\n",
      "creating build/bdist.macosx-10.9-x86_64/wheel/sequence_analyzer-1.0.dist-info/WHEEL\n",
      "creating '/Users/danniel_jin/FILES/SCRIPTS/PROJECTS/sequence_analyzer/dist/sequence_analyzer-1.0-py3-none-any.whl' and adding '.' to it\n",
      "adding 'sequence_analyzer/__init__.py'\n",
      "adding 'sequence_analyzer/dl_ops.py'\n",
      "adding 'sequence_analyzer/model.py'\n",
      "adding 'sequence_analyzer/pipeline.py'\n",
      "adding 'sequence_analyzer/report.py'\n",
      "adding 'sequence_analyzer/train.py'\n",
      "adding 'sequence_analyzer/utils.py'\n",
      "adding 'sequence_analyzer-1.0.dist-info/top_level.txt'\n",
      "adding 'sequence_analyzer-1.0.dist-info/WHEEL'\n",
      "adding 'sequence_analyzer-1.0.dist-info/METADATA'\n",
      "adding 'sequence_analyzer-1.0.dist-info/RECORD'\n",
      "removing build/bdist.macosx-10.9-x86_64/wheel\n"
     ]
    }
   ],
   "source": [
    "! python3 setup.py bdist_wheel"
   ]
  },
  {
   "cell_type": "code",
   "execution_count": 7,
   "metadata": {
    "scrolled": true
   },
   "outputs": [
    {
     "name": "stdout",
     "output_type": "stream",
     "text": [
      "Processing ./dist/sequence_analyzer-1.0-py3-none-any.whl\n",
      "Requirement already satisfied: sklearn in /Library/Frameworks/Python.framework/Versions/3.6/lib/python3.6/site-packages (from sequence-analyzer==1.0) (0.0)\n",
      "Requirement already satisfied: pandas in /Library/Frameworks/Python.framework/Versions/3.6/lib/python3.6/site-packages (from sequence-analyzer==1.0) (0.23.3)\n",
      "Requirement already satisfied: tensorflow in /Library/Frameworks/Python.framework/Versions/3.6/lib/python3.6/site-packages (from sequence-analyzer==1.0) (1.9.0)\n",
      "Requirement already satisfied: jupyter in /Library/Frameworks/Python.framework/Versions/3.6/lib/python3.6/site-packages (from sequence-analyzer==1.0) (1.0.0)\n",
      "Requirement already satisfied: numpy in /Library/Frameworks/Python.framework/Versions/3.6/lib/python3.6/site-packages (from sequence-analyzer==1.0) (1.14.5)\n",
      "Requirement already satisfied: matplotlib in /Library/Frameworks/Python.framework/Versions/3.6/lib/python3.6/site-packages (from sequence-analyzer==1.0) (2.2.2)\n",
      "Requirement already satisfied: scikit-learn in /Library/Frameworks/Python.framework/Versions/3.6/lib/python3.6/site-packages (from sklearn->sequence-analyzer==1.0) (0.19.1)\n",
      "Requirement already satisfied: pytz>=2011k in /Library/Frameworks/Python.framework/Versions/3.6/lib/python3.6/site-packages (from pandas->sequence-analyzer==1.0) (2018.5)\n",
      "Requirement already satisfied: python-dateutil>=2.5.0 in /Library/Frameworks/Python.framework/Versions/3.6/lib/python3.6/site-packages (from pandas->sequence-analyzer==1.0) (2.7.3)\n",
      "Requirement already satisfied: grpcio>=1.8.6 in /Library/Frameworks/Python.framework/Versions/3.6/lib/python3.6/site-packages (from tensorflow->sequence-analyzer==1.0) (1.13.0)\n",
      "Requirement already satisfied: protobuf>=3.4.0 in /Library/Frameworks/Python.framework/Versions/3.6/lib/python3.6/site-packages (from tensorflow->sequence-analyzer==1.0) (3.6.0)\n",
      "Requirement already satisfied: setuptools<=39.1.0 in /Library/Frameworks/Python.framework/Versions/3.6/lib/python3.6/site-packages (from tensorflow->sequence-analyzer==1.0) (39.0.1)\n",
      "Requirement already satisfied: termcolor>=1.1.0 in /Library/Frameworks/Python.framework/Versions/3.6/lib/python3.6/site-packages (from tensorflow->sequence-analyzer==1.0) (1.1.0)\n",
      "Requirement already satisfied: six>=1.10.0 in /Library/Frameworks/Python.framework/Versions/3.6/lib/python3.6/site-packages (from tensorflow->sequence-analyzer==1.0) (1.11.0)\n",
      "Requirement already satisfied: absl-py>=0.1.6 in /Library/Frameworks/Python.framework/Versions/3.6/lib/python3.6/site-packages (from tensorflow->sequence-analyzer==1.0) (0.2.2)\n",
      "Requirement already satisfied: gast>=0.2.0 in /Library/Frameworks/Python.framework/Versions/3.6/lib/python3.6/site-packages (from tensorflow->sequence-analyzer==1.0) (0.2.0)\n",
      "Requirement already satisfied: wheel>=0.26 in /Library/Frameworks/Python.framework/Versions/3.6/lib/python3.6/site-packages (from tensorflow->sequence-analyzer==1.0) (0.31.1)\n",
      "Requirement already satisfied: tensorboard<1.10.0,>=1.9.0 in /Library/Frameworks/Python.framework/Versions/3.6/lib/python3.6/site-packages (from tensorflow->sequence-analyzer==1.0) (1.9.0)\n",
      "Requirement already satisfied: astor>=0.6.0 in /Library/Frameworks/Python.framework/Versions/3.6/lib/python3.6/site-packages (from tensorflow->sequence-analyzer==1.0) (0.7.1)\n",
      "Requirement already satisfied: jupyter-console in /Library/Frameworks/Python.framework/Versions/3.6/lib/python3.6/site-packages (from jupyter->sequence-analyzer==1.0) (5.2.0)\n",
      "Requirement already satisfied: qtconsole in /Library/Frameworks/Python.framework/Versions/3.6/lib/python3.6/site-packages (from jupyter->sequence-analyzer==1.0) (4.3.1)\n",
      "Requirement already satisfied: nbconvert in /Library/Frameworks/Python.framework/Versions/3.6/lib/python3.6/site-packages (from jupyter->sequence-analyzer==1.0) (5.3.1)\n",
      "Requirement already satisfied: notebook in /Library/Frameworks/Python.framework/Versions/3.6/lib/python3.6/site-packages (from jupyter->sequence-analyzer==1.0) (5.5.0)\n",
      "Requirement already satisfied: ipywidgets in /Library/Frameworks/Python.framework/Versions/3.6/lib/python3.6/site-packages (from jupyter->sequence-analyzer==1.0) (7.2.1)\n",
      "Requirement already satisfied: ipykernel in /Library/Frameworks/Python.framework/Versions/3.6/lib/python3.6/site-packages (from jupyter->sequence-analyzer==1.0) (4.8.2)\n",
      "Requirement already satisfied: kiwisolver>=1.0.1 in /Library/Frameworks/Python.framework/Versions/3.6/lib/python3.6/site-packages (from matplotlib->sequence-analyzer==1.0) (1.0.1)\n",
      "Requirement already satisfied: pyparsing!=2.0.4,!=2.1.2,!=2.1.6,>=2.0.1 in /Library/Frameworks/Python.framework/Versions/3.6/lib/python3.6/site-packages (from matplotlib->sequence-analyzer==1.0) (2.2.0)\n",
      "Requirement already satisfied: cycler>=0.10 in /Library/Frameworks/Python.framework/Versions/3.6/lib/python3.6/site-packages (from matplotlib->sequence-analyzer==1.0) (0.10.0)\n",
      "Requirement already satisfied: markdown>=2.6.8 in /Library/Frameworks/Python.framework/Versions/3.6/lib/python3.6/site-packages (from tensorboard<1.10.0,>=1.9.0->tensorflow->sequence-analyzer==1.0) (2.6.11)\n",
      "Requirement already satisfied: werkzeug>=0.11.10 in /Library/Frameworks/Python.framework/Versions/3.6/lib/python3.6/site-packages (from tensorboard<1.10.0,>=1.9.0->tensorflow->sequence-analyzer==1.0) (0.14.1)\n",
      "Requirement already satisfied: pygments in /Library/Frameworks/Python.framework/Versions/3.6/lib/python3.6/site-packages (from jupyter-console->jupyter->sequence-analyzer==1.0) (2.2.0)\n",
      "Requirement already satisfied: prompt-toolkit<2.0.0,>=1.0.0 in /Library/Frameworks/Python.framework/Versions/3.6/lib/python3.6/site-packages (from jupyter-console->jupyter->sequence-analyzer==1.0) (1.0.15)\n",
      "Requirement already satisfied: ipython in /Library/Frameworks/Python.framework/Versions/3.6/lib/python3.6/site-packages (from jupyter-console->jupyter->sequence-analyzer==1.0) (6.4.0)\n",
      "Requirement already satisfied: jupyter-client in /Library/Frameworks/Python.framework/Versions/3.6/lib/python3.6/site-packages (from jupyter-console->jupyter->sequence-analyzer==1.0) (5.2.3)\n",
      "Requirement already satisfied: jupyter-core in /Library/Frameworks/Python.framework/Versions/3.6/lib/python3.6/site-packages (from qtconsole->jupyter->sequence-analyzer==1.0) (4.4.0)\n",
      "Requirement already satisfied: traitlets in /Library/Frameworks/Python.framework/Versions/3.6/lib/python3.6/site-packages (from qtconsole->jupyter->sequence-analyzer==1.0) (4.3.2)\n",
      "Requirement already satisfied: ipython-genutils in /Library/Frameworks/Python.framework/Versions/3.6/lib/python3.6/site-packages (from qtconsole->jupyter->sequence-analyzer==1.0) (0.2.0)\n",
      "Requirement already satisfied: mistune>=0.7.4 in /Library/Frameworks/Python.framework/Versions/3.6/lib/python3.6/site-packages (from nbconvert->jupyter->sequence-analyzer==1.0) (0.8.3)\n",
      "Requirement already satisfied: entrypoints>=0.2.2 in /Library/Frameworks/Python.framework/Versions/3.6/lib/python3.6/site-packages (from nbconvert->jupyter->sequence-analyzer==1.0) (0.2.3)\n",
      "Requirement already satisfied: pandocfilters>=1.4.1 in /Library/Frameworks/Python.framework/Versions/3.6/lib/python3.6/site-packages (from nbconvert->jupyter->sequence-analyzer==1.0) (1.4.2)\n",
      "Requirement already satisfied: bleach in /Library/Frameworks/Python.framework/Versions/3.6/lib/python3.6/site-packages (from nbconvert->jupyter->sequence-analyzer==1.0) (2.1.3)\n",
      "Requirement already satisfied: nbformat>=4.4 in /Library/Frameworks/Python.framework/Versions/3.6/lib/python3.6/site-packages (from nbconvert->jupyter->sequence-analyzer==1.0) (4.4.0)\n",
      "Requirement already satisfied: jinja2 in /Library/Frameworks/Python.framework/Versions/3.6/lib/python3.6/site-packages (from nbconvert->jupyter->sequence-analyzer==1.0) (2.10)\n",
      "Requirement already satisfied: testpath in /Library/Frameworks/Python.framework/Versions/3.6/lib/python3.6/site-packages (from nbconvert->jupyter->sequence-analyzer==1.0) (0.3.1)\n",
      "Requirement already satisfied: pyzmq>=17 in /Library/Frameworks/Python.framework/Versions/3.6/lib/python3.6/site-packages (from notebook->jupyter->sequence-analyzer==1.0) (17.0.0)\n",
      "Requirement already satisfied: Send2Trash in /Library/Frameworks/Python.framework/Versions/3.6/lib/python3.6/site-packages (from notebook->jupyter->sequence-analyzer==1.0) (1.5.0)\n",
      "Requirement already satisfied: terminado>=0.8.1 in /Library/Frameworks/Python.framework/Versions/3.6/lib/python3.6/site-packages (from notebook->jupyter->sequence-analyzer==1.0) (0.8.1)\n"
     ]
    },
    {
     "name": "stdout",
     "output_type": "stream",
     "text": [
      "Requirement already satisfied: tornado>=4 in /Library/Frameworks/Python.framework/Versions/3.6/lib/python3.6/site-packages (from notebook->jupyter->sequence-analyzer==1.0) (5.0.2)\n",
      "Requirement already satisfied: widgetsnbextension~=3.2.0 in /Library/Frameworks/Python.framework/Versions/3.6/lib/python3.6/site-packages (from ipywidgets->jupyter->sequence-analyzer==1.0) (3.2.1)\n",
      "Requirement already satisfied: wcwidth in /Library/Frameworks/Python.framework/Versions/3.6/lib/python3.6/site-packages (from prompt-toolkit<2.0.0,>=1.0.0->jupyter-console->jupyter->sequence-analyzer==1.0) (0.1.7)\n",
      "Requirement already satisfied: appnope; sys_platform == \"darwin\" in /Library/Frameworks/Python.framework/Versions/3.6/lib/python3.6/site-packages (from ipython->jupyter-console->jupyter->sequence-analyzer==1.0) (0.1.0)\n",
      "Requirement already satisfied: backcall in /Library/Frameworks/Python.framework/Versions/3.6/lib/python3.6/site-packages (from ipython->jupyter-console->jupyter->sequence-analyzer==1.0) (0.1.0)\n",
      "Requirement already satisfied: decorator in /Library/Frameworks/Python.framework/Versions/3.6/lib/python3.6/site-packages (from ipython->jupyter-console->jupyter->sequence-analyzer==1.0) (4.3.0)\n",
      "Requirement already satisfied: jedi>=0.10 in /Library/Frameworks/Python.framework/Versions/3.6/lib/python3.6/site-packages (from ipython->jupyter-console->jupyter->sequence-analyzer==1.0) (0.12.1)\n",
      "Requirement already satisfied: pexpect; sys_platform != \"win32\" in /Library/Frameworks/Python.framework/Versions/3.6/lib/python3.6/site-packages (from ipython->jupyter-console->jupyter->sequence-analyzer==1.0) (4.6.0)\n",
      "Requirement already satisfied: pickleshare in /Library/Frameworks/Python.framework/Versions/3.6/lib/python3.6/site-packages (from ipython->jupyter-console->jupyter->sequence-analyzer==1.0) (0.7.4)\n",
      "Requirement already satisfied: simplegeneric>0.8 in /Library/Frameworks/Python.framework/Versions/3.6/lib/python3.6/site-packages (from ipython->jupyter-console->jupyter->sequence-analyzer==1.0) (0.8.1)\n",
      "Requirement already satisfied: html5lib!=1.0b1,!=1.0b2,!=1.0b3,!=1.0b4,!=1.0b5,!=1.0b6,!=1.0b7,!=1.0b8,>=0.99999999pre in /Library/Frameworks/Python.framework/Versions/3.6/lib/python3.6/site-packages (from bleach->nbconvert->jupyter->sequence-analyzer==1.0) (1.0.1)\n",
      "Requirement already satisfied: jsonschema!=2.5.0,>=2.4 in /Library/Frameworks/Python.framework/Versions/3.6/lib/python3.6/site-packages (from nbformat>=4.4->nbconvert->jupyter->sequence-analyzer==1.0) (2.6.0)\n",
      "Requirement already satisfied: MarkupSafe>=0.23 in /Library/Frameworks/Python.framework/Versions/3.6/lib/python3.6/site-packages (from jinja2->nbconvert->jupyter->sequence-analyzer==1.0) (1.0)\n",
      "Requirement already satisfied: ptyprocess; os_name != \"nt\" in /Library/Frameworks/Python.framework/Versions/3.6/lib/python3.6/site-packages (from terminado>=0.8.1->notebook->jupyter->sequence-analyzer==1.0) (0.6.0)\n",
      "Requirement already satisfied: parso>=0.3.0 in /Library/Frameworks/Python.framework/Versions/3.6/lib/python3.6/site-packages (from jedi>=0.10->ipython->jupyter-console->jupyter->sequence-analyzer==1.0) (0.3.1)\n",
      "Requirement already satisfied: webencodings in /Library/Frameworks/Python.framework/Versions/3.6/lib/python3.6/site-packages (from html5lib!=1.0b1,!=1.0b2,!=1.0b3,!=1.0b4,!=1.0b5,!=1.0b6,!=1.0b7,!=1.0b8,>=0.99999999pre->bleach->nbconvert->jupyter->sequence-analyzer==1.0) (0.5.1)\n",
      "Installing collected packages: sequence-analyzer\n",
      "Successfully installed sequence-analyzer-1.0\n",
      "\u001b[33mYou are using pip version 18.0, however version 18.1 is available.\n",
      "You should consider upgrading via the 'pip install --upgrade pip' command.\u001b[0m\n"
     ]
    }
   ],
   "source": [
    "! pip3 install dist/*"
   ]
  },
  {
   "cell_type": "code",
   "execution_count": null,
   "metadata": {},
   "outputs": [],
   "source": []
  },
  {
   "cell_type": "code",
   "execution_count": null,
   "metadata": {},
   "outputs": [],
   "source": []
  },
  {
   "cell_type": "code",
   "execution_count": null,
   "metadata": {},
   "outputs": [],
   "source": []
  },
  {
   "cell_type": "code",
   "execution_count": null,
   "metadata": {},
   "outputs": [],
   "source": []
  },
  {
   "cell_type": "code",
   "execution_count": null,
   "metadata": {},
   "outputs": [],
   "source": []
  }
 ],
 "metadata": {
  "kernelspec": {
   "display_name": "Python 3",
   "language": "python",
   "name": "python3"
  },
  "language_info": {
   "codemirror_mode": {
    "name": "ipython",
    "version": 3
   },
   "file_extension": ".py",
   "mimetype": "text/x-python",
   "name": "python",
   "nbconvert_exporter": "python",
   "pygments_lexer": "ipython3",
   "version": "3.6.6"
  }
 },
 "nbformat": 4,
 "nbformat_minor": 2
}
